{
 "cells": [
  {
   "cell_type": "markdown",
   "id": "c6cbd4d8-d26e-47f5-a29f-ca879a2308b5",
   "metadata": {},
   "source": [
    "# Project Name: Food 4 Thought\n",
    "\n",
    "** This project revisits and expands upon an original assignment completed as part of the \"Data and Knowledge Engineering\" course during my Bachelor's degree in Business Informatics at Wirtschaftsuniversität Wien in 2021. For further details refer to the README.md or theory.md files included in the repository.\n",
    "\n",
    "- Author: Kristina Chuang\n",
    "- Original date: 29/05/2021\n",
    "- Revisited: 12/07/2024\n",
    "\n",
    "### Technologies:\n",
    "- Python, SQL, SPARQL, Relational Databases, RDF (Resource Description Framework), Knowledge graphs, Semantic Web.\n",
    "\n",
    "### Goals: \n",
    "1. Combine a csv table with common generic foods and their scientific names with nutritional RDF data from DBpedia.org\n",
    "2. Output a new CSV report with the combined findings, giving values for each vegetable grams of macronutrients; Protein, Carbohydrates and Fat, and computing their combined caloric value.\n",
    "3. Query recipes from DBpedia using SPARQL and match them with the nutritional table in a Python Application."
   ]
  },
  {
   "cell_type": "markdown",
   "id": "298258e1-8c82-41ba-bbd7-409112f38e11",
   "metadata": {},
   "source": [
    "## Part 1: Relational Database\n",
    "- Import the dataset:\n",
    "    - The original dataset can be found in the portal data.world <br>\n",
    "    https://data.world/alexandra/generic-food-database/workspace/file?filename=generic-food.csv <br>\n",
    "- We will first use the request and pandas package as the data set will require some cleaning and transforming to correctly match the dbpedia.org ontologies.\n",
    "    "
   ]
  },
  {
   "cell_type": "code",
   "execution_count": 1,
   "id": "a1bfcda4-2d73-417a-af69-f71dcf3a81b7",
   "metadata": {
    "tags": []
   },
   "outputs": [],
   "source": [
    "# importing necessary packages\n",
    "\n",
    "import pandas as pd\n",
    "import requests\n",
    "import os.path"
   ]
  },
  {
   "cell_type": "code",
   "execution_count": 2,
   "id": "93159a4a-3336-4567-8611-c41169b6086d",
   "metadata": {
    "tags": []
   },
   "outputs": [
    {
     "name": "stdout",
     "output_type": "stream",
     "text": [
      "file exists.\n"
     ]
    }
   ],
   "source": [
    "fn = \"data/foods.csv\"\n",
    "if os.path.isfile(fn):\n",
    "    print(\"file exists.\")\n",
    "else:\n",
    "    url = 'https://query.data.world/s/kg6g2cwvmdxaaixvxa63ix2j6w3l3t?dws=00000'\n",
    "    r = requests.get(url)\n",
    "    f = open(fn, 'w')\n",
    "    f.write(r.text)\n",
    "    f.close()\n",
    "    print(\"downloaded.\")"
   ]
  },
  {
   "cell_type": "markdown",
   "id": "f16aa5c3-84aa-423a-94e7-213c2d234947",
   "metadata": {},
   "source": [
    "- Inspect data in foods.csv with pandas"
   ]
  },
  {
   "cell_type": "code",
   "execution_count": 3,
   "id": "54f591db-02a1-48d3-a1d0-45d2d345b00f",
   "metadata": {
    "tags": []
   },
   "outputs": [
    {
     "data": {
      "text/html": [
       "<div>\n",
       "<style scoped>\n",
       "    .dataframe tbody tr th:only-of-type {\n",
       "        vertical-align: middle;\n",
       "    }\n",
       "\n",
       "    .dataframe tbody tr th {\n",
       "        vertical-align: top;\n",
       "    }\n",
       "\n",
       "    .dataframe thead th {\n",
       "        text-align: right;\n",
       "    }\n",
       "</style>\n",
       "<table border=\"1\" class=\"dataframe\">\n",
       "  <thead>\n",
       "    <tr style=\"text-align: right;\">\n",
       "      <th></th>\n",
       "      <th>FOOD NAME</th>\n",
       "      <th>SCIENTIFIC NAME</th>\n",
       "      <th>GROUP</th>\n",
       "      <th>SUB GROUP</th>\n",
       "    </tr>\n",
       "  </thead>\n",
       "  <tbody>\n",
       "    <tr>\n",
       "      <th>812</th>\n",
       "      <td>Flour</td>\n",
       "      <td>NaN</td>\n",
       "      <td>Cereals and cereal products</td>\n",
       "      <td>Cereal products</td>\n",
       "    </tr>\n",
       "    <tr>\n",
       "      <th>752</th>\n",
       "      <td>Cocktail</td>\n",
       "      <td>NaN</td>\n",
       "      <td>Beverages</td>\n",
       "      <td>Alcoholic beverages</td>\n",
       "    </tr>\n",
       "    <tr>\n",
       "      <th>146</th>\n",
       "      <td>European plum</td>\n",
       "      <td>Prunus domestica</td>\n",
       "      <td>Fruits</td>\n",
       "      <td>Drupes</td>\n",
       "    </tr>\n",
       "    <tr>\n",
       "      <th>675</th>\n",
       "      <td>Marshmallow</td>\n",
       "      <td>NaN</td>\n",
       "      <td>Confectioneries</td>\n",
       "      <td>Candies</td>\n",
       "    </tr>\n",
       "    <tr>\n",
       "      <th>832</th>\n",
       "      <td>Trail mix</td>\n",
       "      <td>NaN</td>\n",
       "      <td>Snack foods</td>\n",
       "      <td>Snack foods</td>\n",
       "    </tr>\n",
       "  </tbody>\n",
       "</table>\n",
       "</div>"
      ],
      "text/plain": [
       "         FOOD NAME   SCIENTIFIC NAME                        GROUP  \\\n",
       "812          Flour               NaN  Cereals and cereal products   \n",
       "752       Cocktail               NaN                    Beverages   \n",
       "146  European plum  Prunus domestica                       Fruits   \n",
       "675    Marshmallow               NaN              Confectioneries   \n",
       "832      Trail mix               NaN                  Snack foods   \n",
       "\n",
       "               SUB GROUP  \n",
       "812      Cereal products  \n",
       "752  Alcoholic beverages  \n",
       "146               Drupes  \n",
       "675              Candies  \n",
       "832          Snack foods  "
      ]
     },
     "execution_count": 3,
     "metadata": {},
     "output_type": "execute_result"
    }
   ],
   "source": [
    "df = pd.read_csv('data/foods.csv')\n",
    "df.sample(5)"
   ]
  },
  {
   "cell_type": "code",
   "execution_count": 4,
   "id": "1adfacab-0097-45f1-9589-8a459ff990c3",
   "metadata": {
    "tags": []
   },
   "outputs": [
    {
     "data": {
      "text/plain": [
       "(907, 4)"
      ]
     },
     "execution_count": 4,
     "metadata": {},
     "output_type": "execute_result"
    }
   ],
   "source": [
    "df.shape"
   ]
  },
  {
   "cell_type": "code",
   "execution_count": 5,
   "id": "1a46d81e-4221-4735-a271-bcd3854ce802",
   "metadata": {
    "tags": []
   },
   "outputs": [
    {
     "name": "stdout",
     "output_type": "stream",
     "text": [
      "<class 'pandas.core.frame.DataFrame'>\n",
      "RangeIndex: 907 entries, 0 to 906\n",
      "Data columns (total 4 columns):\n",
      " #   Column           Non-Null Count  Dtype \n",
      "---  ------           --------------  ----- \n",
      " 0   FOOD NAME        907 non-null    object\n",
      " 1   SCIENTIFIC NAME  648 non-null    object\n",
      " 2   GROUP            907 non-null    object\n",
      " 3   SUB GROUP        907 non-null    object\n",
      "dtypes: object(4)\n",
      "memory usage: 28.5+ KB\n"
     ]
    }
   ],
   "source": [
    "df.info()"
   ]
  },
  {
   "cell_type": "markdown",
   "id": "9d99723f-2bb0-46ce-bce4-b52973e07a6a",
   "metadata": {},
   "source": [
    "### Data cleaning\n",
    "- only need the first 2 columns FOOD NAME and SCIENTIFIC NAME\n",
    "- remove part of food name that is in parenthesis\n",
    "- drop rows with NaN values"
   ]
  },
  {
   "cell_type": "code",
   "execution_count": 6,
   "id": "47dbf9a0-086a-4fe7-a1f7-c3381c60a58b",
   "metadata": {},
   "outputs": [],
   "source": [
    "# 1. Keep only first 2 columns\n",
    "df = df.iloc[:, :2]"
   ]
  },
  {
   "cell_type": "code",
   "execution_count": 7,
   "id": "5d0c8aa2-39c3-404d-8bfc-d5c1aa10efa4",
   "metadata": {},
   "outputs": [],
   "source": [
    "# 2. Rename columns\n",
    "df.columns = ['food_name', 'scientific_name']"
   ]
  },
  {
   "cell_type": "code",
   "execution_count": 8,
   "id": "46a3fe5b-f72c-4a75-9573-7b5ed01317eb",
   "metadata": {},
   "outputs": [],
   "source": [
    "# 3. Drop rows with NaN values\n",
    "df = df.dropna()"
   ]
  },
  {
   "cell_type": "code",
   "execution_count": 9,
   "id": "7825e65d-cfaf-4112-a692-488bea8e4c0a",
   "metadata": {},
   "outputs": [],
   "source": [
    "import re\n",
    "# 3. remove part of name in parenthesis\n",
    "df['food_name'] = df['food_name'].str.replace(r'\\(.*?\\)', '', regex=True)"
   ]
  },
  {
   "cell_type": "code",
   "execution_count": 10,
   "id": "fcac2795-582b-4bb5-bda6-ba75e1088ef0",
   "metadata": {},
   "outputs": [
    {
     "data": {
      "text/html": [
       "<div>\n",
       "<style scoped>\n",
       "    .dataframe tbody tr th:only-of-type {\n",
       "        vertical-align: middle;\n",
       "    }\n",
       "\n",
       "    .dataframe tbody tr th {\n",
       "        vertical-align: top;\n",
       "    }\n",
       "\n",
       "    .dataframe thead th {\n",
       "        text-align: right;\n",
       "    }\n",
       "</style>\n",
       "<table border=\"1\" class=\"dataframe\">\n",
       "  <thead>\n",
       "    <tr style=\"text-align: right;\">\n",
       "      <th></th>\n",
       "      <th>food_name</th>\n",
       "      <th>scientific_name</th>\n",
       "    </tr>\n",
       "  </thead>\n",
       "  <tbody>\n",
       "    <tr>\n",
       "      <th>501</th>\n",
       "      <td>Towel gourd</td>\n",
       "      <td>Luffa aegyptiaca</td>\n",
       "    </tr>\n",
       "    <tr>\n",
       "      <th>377</th>\n",
       "      <td>Haddock</td>\n",
       "      <td>Melanogrammus aeglefinus</td>\n",
       "    </tr>\n",
       "    <tr>\n",
       "      <th>413</th>\n",
       "      <td>Moose</td>\n",
       "      <td>Alces alces</td>\n",
       "    </tr>\n",
       "    <tr>\n",
       "      <th>75</th>\n",
       "      <td>Loquat</td>\n",
       "      <td>Eriobotrya japonica</td>\n",
       "    </tr>\n",
       "    <tr>\n",
       "      <th>92</th>\n",
       "      <td>Black walnut</td>\n",
       "      <td>Juglans nigra</td>\n",
       "    </tr>\n",
       "  </tbody>\n",
       "</table>\n",
       "</div>"
      ],
      "text/plain": [
       "        food_name           scientific_name\n",
       "501   Towel gourd          Luffa aegyptiaca\n",
       "377       Haddock  Melanogrammus aeglefinus\n",
       "413         Moose               Alces alces\n",
       "75         Loquat       Eriobotrya japonica\n",
       "92   Black walnut             Juglans nigra"
      ]
     },
     "execution_count": 10,
     "metadata": {},
     "output_type": "execute_result"
    }
   ],
   "source": [
    "df.sample(5)"
   ]
  },
  {
   "cell_type": "code",
   "execution_count": 11,
   "id": "f9a21121-3cb5-42b5-b0d0-25e408d4775a",
   "metadata": {
    "tags": []
   },
   "outputs": [
    {
     "data": {
      "text/plain": [
       "(648, 2)"
      ]
     },
     "execution_count": 11,
     "metadata": {},
     "output_type": "execute_result"
    }
   ],
   "source": [
    "df.shape"
   ]
  },
  {
   "cell_type": "code",
   "execution_count": 12,
   "id": "21f1a005-1936-4dfa-9615-c104e049d7cc",
   "metadata": {},
   "outputs": [],
   "source": [
    "# save clean dataframe as csv for manual cross referencing with dbpedia (next part)\n",
    "df.to_csv('data/foods_clean.csv', index=False)"
   ]
  },
  {
   "cell_type": "markdown",
   "id": "18a16c0c-d44e-4453-b41d-552123102e04",
   "metadata": {},
   "source": [
    "- Now we have a clean data with 648 food_name and scientific_name\n",
    "- It is not perfect, but we maximize the chances of matching the food_name to a wikipedia page and hence to a dbpedia page and its ontology (dbo:)\n",
    "- we can create a local sqlite database and load the table."
   ]
  },
  {
   "cell_type": "code",
   "execution_count": 13,
   "id": "9f381479-0b49-4d73-bf00-3e18ff1edee2",
   "metadata": {},
   "outputs": [],
   "source": [
    "#pip install ipython-sql"
   ]
  },
  {
   "cell_type": "code",
   "execution_count": 14,
   "id": "64115b8f-f0b5-4e4f-8e18-8da26a60af03",
   "metadata": {},
   "outputs": [],
   "source": [
    "import sqlite3"
   ]
  },
  {
   "cell_type": "code",
   "execution_count": 15,
   "id": "b6b3c3fa-2d4f-46a3-86da-7faa4e40aeda",
   "metadata": {
    "tags": []
   },
   "outputs": [],
   "source": [
    "# load sql extension\n",
    "%load_ext sql"
   ]
  },
  {
   "cell_type": "markdown",
   "id": "c4488ebf-b47d-42c7-ab82-459fe96870fe",
   "metadata": {},
   "source": [
    "- create a local sqlite database for this project"
   ]
  },
  {
   "cell_type": "code",
   "execution_count": 16,
   "id": "4a8aba7a-8075-4ce3-99d3-5539ae6b829e",
   "metadata": {
    "tags": []
   },
   "outputs": [],
   "source": [
    "%sql sqlite:///food4thought.db"
   ]
  },
  {
   "cell_type": "code",
   "execution_count": 17,
   "id": "96243015-237d-4886-b7b0-8e4054d19eb7",
   "metadata": {
    "tags": []
   },
   "outputs": [],
   "source": [
    "# connection to db\n",
    "conn = sqlite3.connect('food4thought.db')"
   ]
  },
  {
   "cell_type": "code",
   "execution_count": 18,
   "id": "0a8d7ef1-71ea-4004-b983-9f3b6c30d6d5",
   "metadata": {
    "tags": []
   },
   "outputs": [
    {
     "name": "stdout",
     "output_type": "stream",
     "text": [
      " * sqlite:///food4thought.db\n",
      "Done.\n"
     ]
    },
    {
     "data": {
      "text/plain": [
       "648"
      ]
     },
     "execution_count": 18,
     "metadata": {},
     "output_type": "execute_result"
    }
   ],
   "source": [
    "%sql drop table if exists foods;\n",
    "\n",
    "# send dataframe as table to db\n",
    "df.to_sql('foods', conn, index = False)"
   ]
  },
  {
   "cell_type": "code",
   "execution_count": 19,
   "id": "42fd776a-2d63-4794-940f-b2fc404c1bba",
   "metadata": {
    "tags": []
   },
   "outputs": [
    {
     "name": "stdout",
     "output_type": "stream",
     "text": [
      " * sqlite:///food4thought.db\n",
      "Done.\n"
     ]
    },
    {
     "data": {
      "text/html": [
       "<table>\n",
       "    <thead>\n",
       "        <tr>\n",
       "            <th>food_name</th>\n",
       "            <th>scientific_name</th>\n",
       "        </tr>\n",
       "    </thead>\n",
       "    <tbody>\n",
       "        <tr>\n",
       "            <td>Wax apple</td>\n",
       "            <td>Eugenia</td>\n",
       "        </tr>\n",
       "        <tr>\n",
       "            <td>Ginger</td>\n",
       "            <td>Zingiber officinale</td>\n",
       "        </tr>\n",
       "        <tr>\n",
       "            <td>Pepper </td>\n",
       "            <td>Piper nigrum</td>\n",
       "        </tr>\n",
       "        <tr>\n",
       "            <td>Sour cherry</td>\n",
       "            <td>Prunus cerasus</td>\n",
       "        </tr>\n",
       "        <tr>\n",
       "            <td>Gooseberry</td>\n",
       "            <td>Ribes uva-crispa</td>\n",
       "        </tr>\n",
       "        <tr>\n",
       "            <td>Peach </td>\n",
       "            <td>Prunus persica var. persica</td>\n",
       "        </tr>\n",
       "        <tr>\n",
       "            <td>Nanking cherry</td>\n",
       "            <td>Prunus tomentosa</td>\n",
       "        </tr>\n",
       "        <tr>\n",
       "            <td>Oriental wheat</td>\n",
       "            <td>Triticum turanicum</td>\n",
       "        </tr>\n",
       "        <tr>\n",
       "            <td>Ocean pout</td>\n",
       "            <td>Zoarces americanus</td>\n",
       "        </tr>\n",
       "        <tr>\n",
       "            <td>Sourdock</td>\n",
       "            <td>Rumex articus</td>\n",
       "        </tr>\n",
       "    </tbody>\n",
       "</table>"
      ],
      "text/plain": [
       "[('Wax apple', 'Eugenia'),\n",
       " ('Ginger', 'Zingiber officinale'),\n",
       " ('Pepper ', 'Piper nigrum'),\n",
       " ('Sour cherry', 'Prunus cerasus'),\n",
       " ('Gooseberry', 'Ribes uva-crispa'),\n",
       " ('Peach ', 'Prunus persica var. persica'),\n",
       " ('Nanking cherry', 'Prunus tomentosa'),\n",
       " ('Oriental wheat', 'Triticum turanicum'),\n",
       " ('Ocean pout', 'Zoarces americanus'),\n",
       " ('Sourdock', 'Rumex articus')]"
      ]
     },
     "execution_count": 19,
     "metadata": {},
     "output_type": "execute_result"
    }
   ],
   "source": [
    "%%sql\n",
    "SELECT * \n",
    "FROM foods \n",
    "ORDER BY RANDOM() \n",
    "LIMIT 10;"
   ]
  },
  {
   "cell_type": "markdown",
   "id": "cb82547f-10a6-4a27-bbc4-5872180e5083",
   "metadata": {},
   "source": [
    "## Part 2: RDF, SPARQL queries for macronutrients"
   ]
  },
  {
   "cell_type": "markdown",
   "id": "b62ff537-7546-466d-969a-a7a14270505b",
   "metadata": {},
   "source": [
    "- This is where the search gets interesting, because the ontology from DBpedia is by nature crowd-sourced, there are no guarantees of its logical correctnes in natural language.\n",
    "\n",
    "- Note: Wikipedia is a community effort, and entries are not always reliable or objective.\n",
    "\n",
    "- DBpedia extracts structured data from Wikipedia and makes it available in various formats (html, csv, json, etc)\n",
    "\n",
    "- As a curiosity, try it yourself:\n",
    "    1. find a wikipedia page for Food (https://en.wikipedia.org/wiki/Food). This ensures that (most-likely) there will also be a dbpedia page for this subject.\n",
    "    2. go to https://dbpedia.org/page/ and type 'Food' after (page/) or any other wikipedia article name. Ensure that the name matches the wikipedia article URL ending, inluding capitalization of the first letter and potentially underscore \"_\" separating the name.\n",
    "    3. You will find that Food is \"An Entity of Type: music genre, from Named Graph: http://dbpedia.org\"\n",
    "    4. This means that an RDF triple such as (see below) are valid.\n",
    "        - :Food rdf:type dbo:MusicGenre\n",
    "        - :Strawberry rdf:type dbo:Insect<br>\n",
    "In natural language is like saying, Food is a type of music genre and Strawberry is a type of insect. Which makes no sense, but so are the state of things and have not change in the last 3 years in 2024.\n",
    "    \n",
    "\n",
    "- As a first step we need to find a common dbpedia ontology type (dbo:type) for some of the food names in the foods table.\n",
    "- This is some manual work inserting some food names in https://dbpedia.org/page/\n",
    "\n",
    "- Most of the vegetables in the foods table belong to dbpedia ontology type: \"Plant\", however others are missclassified as \"Insects\", and some fish species are of type \"Eukaryote\".\n",
    "\n",
    "- However, since the goal is to find the macronutrient information, we can make a SPARQL query that retrieves any item as long as it has the DBpedia properties (dbo:) carbs, fat and protein, in year 2024, there are only 1246 and many items are redundant."
   ]
  },
  {
   "cell_type": "markdown",
   "id": "90903d0e-fa73-4daf-9a38-76d7d21539dd",
   "metadata": {},
   "source": [
    "### Connnecting to DBpedia Sparql Endpoint\n",
    "- The DBpedia Sparql endpoint is a service identified by an URL capable of processing queries and returning results.\n",
    "- In other words the DBpedia organization provides a service to access data that is interactive and automated.\n",
    "- (other Sparql endpoints are offered by wikidata.org and w3.org)\n",
    "- we use the SPARQLWrapper to access the data.\n",
    "\n",
    "- PREFIX rdf: <http://www.w3.org/1999/02/22-rdf-syntax-ns#>\n",
    "- PREFIX rdfs: <http://www.w3.org/2000/01/rdf-schema#>\n",
    "- PREFIX dbo: <http://dbpedia.org/ontology/>\n",
    "- PREFIX dbp: <http://dbpedia.org/property/>\n",
    "- PREFIX dbr: <http://dbpedia.org/resource/> \n",
    "\n"
   ]
  },
  {
   "cell_type": "code",
   "execution_count": 20,
   "id": "d9a98d94-4f80-4b43-8a0e-45cf7bca4440",
   "metadata": {},
   "outputs": [],
   "source": [
    "# uncomment if needed\n",
    "# pip install SPARQLWrapper"
   ]
  },
  {
   "cell_type": "code",
   "execution_count": 21,
   "id": "7e8817e9-0507-4e1a-821c-a4b076f06c05",
   "metadata": {},
   "outputs": [],
   "source": [
    "from SPARQLWrapper import SPARQLWrapper, JSON, CSV"
   ]
  },
  {
   "cell_type": "code",
   "execution_count": 22,
   "id": "940d4aeb-739e-4660-8ad0-edb79c333523",
   "metadata": {},
   "outputs": [],
   "source": [
    "# connects to the URL endpoint\n",
    "sparql = SPARQLWrapper(\"http://dbpedia.org/sparql\")"
   ]
  },
  {
   "cell_type": "markdown",
   "id": "cafa400c-9b60-4a60-bfd5-002bd9793788",
   "metadata": {},
   "source": [
    "\n",
    "- Allthough I query DISTINCT values, this doesnt work when wikipedia entries have the same name and slightly different nutritional values. We get many different values for things like: Almond.\n",
    "- we can solve this by using an AGGREGATION function in the sparql query. SAMPLE(?x) AS, which will just pick one of the values for protein, carbs and fat."
   ]
  },
  {
   "cell_type": "code",
   "execution_count": 24,
   "id": "875ae0d8-033c-4eba-a190-cccbc3894d78",
   "metadata": {},
   "outputs": [
    {
     "name": "stdout",
     "output_type": "stream",
     "text": [
      "Count of results: 1246\n"
     ]
    }
   ],
   "source": [
    "# Set the query to get the count how items in dbpedia that have macronutrient properties\n",
    "sparql.setQuery(\"\"\"\n",
    "PREFIX dbp: <http://dbpedia.org/property/>\n",
    "PREFIX rdfs: <http://www.w3.org/2000/01/rdf-schema#>\n",
    "\n",
    "SELECT (COUNT(?item) AS ?count)\n",
    "WHERE {\n",
    "  ?item dbp:carbs ?carbs ;\n",
    "        dbp:fat ?fat ;\n",
    "        dbp:protein ?protein ;\n",
    "        rdfs:label ?name .\n",
    "        \n",
    "  FILTER (lang(?name) = \"en\")\n",
    "}\n",
    "\"\"\")\n",
    "sparql.setReturnFormat(JSON)\n",
    "\n",
    "# Execute the query and get the results\n",
    "result = sparql.query().convert()\n",
    "\n",
    "# Extract the count from the results\n",
    "count = result['results']['bindings'][0]['count']['value']\n",
    "print(\"Count of results:\", count)"
   ]
  },
  {
   "cell_type": "markdown",
   "id": "4e9fc85c-c852-4aca-b347-cb33aedc07fb",
   "metadata": {},
   "source": [
    "- many of the 1246 are redundant because there are slight differences in the values for each macronutrient\n",
    "- There are also many processed foods like Burger King, Filet-O-Fish, Big Mac, etc."
   ]
  },
  {
   "cell_type": "code",
   "execution_count": 25,
   "id": "74b6f28c-f9b7-4337-868e-3dfa616ff4c5",
   "metadata": {},
   "outputs": [
    {
     "data": {
      "text/plain": [
       "{'head': {'link': [], 'vars': ['count']},\n",
       " 'results': {'distinct': False,\n",
       "  'ordered': True,\n",
       "  'bindings': [{'count': {'type': 'typed-literal',\n",
       "     'datatype': 'http://www.w3.org/2001/XMLSchema#integer',\n",
       "     'value': '1246'}}]}}"
      ]
     },
     "execution_count": 25,
     "metadata": {},
     "output_type": "execute_result"
    }
   ],
   "source": [
    "result"
   ]
  },
  {
   "cell_type": "markdown",
   "id": "68a0defb-dc5c-41b7-b836-2f5c0d6fe5db",
   "metadata": {},
   "source": [
    "### getting the response in json format"
   ]
  },
  {
   "cell_type": "code",
   "execution_count": 26,
   "id": "94f34e37-18c7-4799-ab06-2e5a81c35814",
   "metadata": {},
   "outputs": [],
   "source": [
    "# query for dbpedia macronutrients properties dbo:protein, dbo:carbs, dbo:fat\n",
    "sparql.setQuery(\"\"\"\n",
    "SELECT DISTINCT ?name, SAMPLE(?prot) AS ?prot, SAMPLE(?carb) AS ?carb, SAMPLE(?fat) AS ?fat\n",
    "WHERE {\n",
    "?x rdfs:label ?name .\n",
    "?x dbp:protein ?prot .\n",
    "?x dbp:carbs ?carb .\n",
    "?x dbp:fat ?fat .\n",
    "\n",
    "FILTER(lang(?name) = 'en') .\n",
    "} ORDER BY ?name\n",
    "\"\"\")\n",
    "sparql.setReturnFormat(JSON)\n",
    "macros = sparql.query().convert()"
   ]
  },
  {
   "cell_type": "markdown",
   "id": "7d9448be-abdb-4183-bd79-055ffddcee18",
   "metadata": {},
   "source": [
    "[:num_samples]: This slices the list of results to include only the first num_samples entries."
   ]
  },
  {
   "cell_type": "code",
   "execution_count": 27,
   "id": "50a6c177-0c0c-4468-a218-a2e736e2d2db",
   "metadata": {},
   "outputs": [
    {
     "name": "stdout",
     "output_type": "stream",
     "text": [
      "A&W Root Beer ,  0 ,  31 ,  0\n",
      "Acorn ,  6.15 ,  40.75 ,  23.85\n",
      "Actinidia arguta ,  1.2 ,  18.0 ,  0.6\n",
      "Adzuki bean ,  7.5 ,  24.8 ,  0.1\n",
      "Agaricus bisporus ,  3.09 ,  3.26 ,  0.34\n"
     ]
    }
   ],
   "source": [
    "# Set the number of samples to display\n",
    "num_samples = 5\n",
    "\n",
    "# Print the sampled results\n",
    "for i in macros[\"results\"][\"bindings\"][:num_samples]:\n",
    "    print(i[\"name\"][\"value\"], \", \",\n",
    "          i[\"prot\"][\"value\"], \", \",\n",
    "          i[\"carb\"][\"value\"], \", \",\n",
    "          i[\"fat\"][\"value\"])"
   ]
  },
  {
   "cell_type": "code",
   "execution_count": 28,
   "id": "d195b7cf-6899-4678-b6eb-cf1fc96db718",
   "metadata": {},
   "outputs": [],
   "source": [
    "# # uncommeny to print all \n",
    "# for i in macros[\"results\"][\"bindings\"]:\n",
    "#     print(i[\"name\"][\"value\"], \", \",\n",
    "#           i[\"prot\"][\"value\"], \", \",  \n",
    "#           i[\"carb\"][\"value\"], \", \", \n",
    "#           i[\"fat\"][\"value\"])"
   ]
  },
  {
   "cell_type": "markdown",
   "id": "01e83657-600b-44ef-8541-d1f387e2062c",
   "metadata": {},
   "source": [
    "### getting response in csv format"
   ]
  },
  {
   "cell_type": "code",
   "execution_count": 29,
   "id": "b4fea80f-9fb7-493b-8a4a-127018c309ca",
   "metadata": {},
   "outputs": [
    {
     "data": {
      "text/html": [
       "<div>\n",
       "<style scoped>\n",
       "    .dataframe tbody tr th:only-of-type {\n",
       "        vertical-align: middle;\n",
       "    }\n",
       "\n",
       "    .dataframe tbody tr th {\n",
       "        vertical-align: top;\n",
       "    }\n",
       "\n",
       "    .dataframe thead th {\n",
       "        text-align: right;\n",
       "    }\n",
       "</style>\n",
       "<table border=\"1\" class=\"dataframe\">\n",
       "  <thead>\n",
       "    <tr style=\"text-align: right;\">\n",
       "      <th></th>\n",
       "      <th>name</th>\n",
       "      <th>prot</th>\n",
       "      <th>carb</th>\n",
       "      <th>fat</th>\n",
       "    </tr>\n",
       "  </thead>\n",
       "  <tbody>\n",
       "    <tr>\n",
       "      <th>537</th>\n",
       "      <td>Valerianella locusta</td>\n",
       "      <td>2.0</td>\n",
       "      <td>3.6</td>\n",
       "      <td>0.40</td>\n",
       "    </tr>\n",
       "    <tr>\n",
       "      <th>181</th>\n",
       "      <td>Erodium cicutarium</td>\n",
       "      <td>0.6</td>\n",
       "      <td>7.9</td>\n",
       "      <td>0.10</td>\n",
       "    </tr>\n",
       "    <tr>\n",
       "      <th>318</th>\n",
       "      <td>Millet</td>\n",
       "      <td>11.0</td>\n",
       "      <td>72.8</td>\n",
       "      <td>4.30</td>\n",
       "    </tr>\n",
       "    <tr>\n",
       "      <th>387</th>\n",
       "      <td>Pibb Xtra</td>\n",
       "      <td>0</td>\n",
       "      <td>38.0</td>\n",
       "      <td>0.00</td>\n",
       "    </tr>\n",
       "    <tr>\n",
       "      <th>413</th>\n",
       "      <td>Pouteria sapota</td>\n",
       "      <td>1.45</td>\n",
       "      <td>32.1</td>\n",
       "      <td>0.46</td>\n",
       "    </tr>\n",
       "  </tbody>\n",
       "</table>\n",
       "</div>"
      ],
      "text/plain": [
       "                     name  prot  carb   fat\n",
       "537  Valerianella locusta   2.0   3.6  0.40\n",
       "181    Erodium cicutarium   0.6   7.9  0.10\n",
       "318                Millet  11.0  72.8  4.30\n",
       "387             Pibb Xtra     0  38.0  0.00\n",
       "413       Pouteria sapota  1.45  32.1  0.46"
      ]
     },
     "execution_count": 29,
     "metadata": {},
     "output_type": "execute_result"
    }
   ],
   "source": [
    "from io import StringIO\n",
    "\n",
    "sparql.setQuery(\"\"\"\n",
    "SELECT DISTINCT ?name, SAMPLE(?prot) AS ?prot, SAMPLE(?carb) AS ?carb, SAMPLE(?fat) AS ?fat\n",
    "WHERE {\n",
    "?x rdfs:label ?name .\n",
    "?x dbp:protein ?prot .\n",
    "?x dbp:carbs ?carb .\n",
    "?x dbp:fat ?fat .\n",
    "\n",
    "FILTER(lang(?name) = 'en') .\n",
    "} ORDER BY ?name\n",
    "\"\"\")\n",
    "sparql.setReturnFormat(CSV)\n",
    "\n",
    "# Execute the query and get the results in CSV format\n",
    "results = sparql.query().convert()\n",
    "\n",
    "# Parse the CSV results using pandas\n",
    "macros_df = pd.read_csv(StringIO(results.decode('utf-8')))\n",
    "macros_df.sample(5)"
   ]
  },
  {
   "cell_type": "code",
   "execution_count": 30,
   "id": "a9eee102-4b5e-4fbf-acc4-27ac2cb5ff1a",
   "metadata": {},
   "outputs": [
    {
     "data": {
      "text/plain": [
       "566"
      ]
     },
     "execution_count": 30,
     "metadata": {},
     "output_type": "execute_result"
    }
   ],
   "source": [
    "len(macros_df)"
   ]
  },
  {
   "cell_type": "markdown",
   "id": "5d41ada7-6b8d-4ac3-a818-1d25502e26dc",
   "metadata": {},
   "source": [
    "- Great! no more duplicates and 566 dbpedia items with macronutrient properties"
   ]
  },
  {
   "cell_type": "markdown",
   "id": "06b626ef-1a22-4ea2-889d-ca3e7aacf398",
   "metadata": {},
   "source": [
    "### Adding macros_df dataframe to food4thought database"
   ]
  },
  {
   "cell_type": "code",
   "execution_count": 31,
   "id": "8e28cde1-1962-459f-9030-8afc4fb2db8a",
   "metadata": {},
   "outputs": [
    {
     "name": "stdout",
     "output_type": "stream",
     "text": [
      " * sqlite:///food4thought.db\n",
      "Done.\n"
     ]
    },
    {
     "data": {
      "text/plain": [
       "566"
      ]
     },
     "execution_count": 31,
     "metadata": {},
     "output_type": "execute_result"
    }
   ],
   "source": [
    "%sql drop table if exists macros;\n",
    "\n",
    "# send dataframe as table to db\n",
    "macros_df.to_sql('macros', conn, index = False)"
   ]
  },
  {
   "cell_type": "markdown",
   "id": "cfa8e1f6-467e-4797-a9bd-f19783b52864",
   "metadata": {},
   "source": [
    "### Combining foods and macros table into a SQL VIEW\n",
    "- the VIEW \"nutrition\" will have columns: name - scientific name - prot - carb - fat\n",
    "- with an inner join so that we only get a view of those food_name present in both tables.\n",
    "- we add a computed column \"Kcal\"\n",
    "- proteins = 4 Kilocalories\n",
    "- carbs = 4 Kcal\n",
    "- fat = 9 Kcal"
   ]
  },
  {
   "cell_type": "code",
   "execution_count": 32,
   "id": "47c0cc29-c202-4640-b4ff-e68db7746389",
   "metadata": {},
   "outputs": [
    {
     "name": "stdout",
     "output_type": "stream",
     "text": [
      " * sqlite:///food4thought.db\n",
      "Done.\n",
      "Done.\n"
     ]
    },
    {
     "data": {
      "text/plain": [
       "[]"
      ]
     },
     "execution_count": 32,
     "metadata": {},
     "output_type": "execute_result"
    }
   ],
   "source": [
    "%%sql\n",
    "\n",
    "drop view if exists nutrition;\n",
    "CREATE VIEW nutrition AS \n",
    "    SELECT name, \n",
    "           scientific_name, \n",
    "           ROUND(prot, 2) AS prot, \n",
    "           ROUND(carb, 2) AS carb,\n",
    "           ROUND(fat, 2) AS fat,\n",
    "           ROUND((prot * 4) + (carb * 4) + (fat * 9), 2) AS kcal \n",
    "    FROM foods JOIN macros\n",
    "    ON food_name = name;"
   ]
  },
  {
   "cell_type": "code",
   "execution_count": 33,
   "id": "85c3b3f8-3969-42df-86b8-810d4a4cb152",
   "metadata": {},
   "outputs": [
    {
     "name": "stdout",
     "output_type": "stream",
     "text": [
      " * sqlite:///food4thought.db\n",
      "Done.\n"
     ]
    },
    {
     "data": {
      "text/html": [
       "<table>\n",
       "    <thead>\n",
       "        <tr>\n",
       "            <th>name</th>\n",
       "            <th>scientific_name</th>\n",
       "            <th>prot</th>\n",
       "            <th>carb</th>\n",
       "            <th>fat</th>\n",
       "            <th>kcal</th>\n",
       "        </tr>\n",
       "    </thead>\n",
       "    <tbody>\n",
       "        <tr>\n",
       "            <td>Acorn</td>\n",
       "            <td>Quercus</td>\n",
       "            <td>6.15</td>\n",
       "            <td>40.75</td>\n",
       "            <td>23.85</td>\n",
       "            <td>402.25</td>\n",
       "        </tr>\n",
       "        <tr>\n",
       "            <td>Adzuki bean</td>\n",
       "            <td>Vigna angularis</td>\n",
       "            <td>7.5</td>\n",
       "            <td>24.8</td>\n",
       "            <td>0.1</td>\n",
       "            <td>130.1</td>\n",
       "        </tr>\n",
       "        <tr>\n",
       "            <td>Alfalfa</td>\n",
       "            <td>Medicago sativa</td>\n",
       "            <td>4.0</td>\n",
       "            <td>2.1</td>\n",
       "            <td>0.7</td>\n",
       "            <td>30.7</td>\n",
       "        </tr>\n",
       "        <tr>\n",
       "            <td>Almond</td>\n",
       "            <td>Prunus dulcis</td>\n",
       "            <td>21.2</td>\n",
       "            <td>21.6</td>\n",
       "            <td>100.0</td>\n",
       "            <td>1071.2</td>\n",
       "        </tr>\n",
       "        <tr>\n",
       "            <td>Amaranth</td>\n",
       "            <td>Amaranthus</td>\n",
       "            <td>13.56</td>\n",
       "            <td>65.25</td>\n",
       "            <td>7.02</td>\n",
       "            <td>378.42</td>\n",
       "        </tr>\n",
       "        <tr>\n",
       "            <td>Apple</td>\n",
       "            <td>Malus pumila</td>\n",
       "            <td>0.26</td>\n",
       "            <td>13.81</td>\n",
       "            <td>0.17</td>\n",
       "            <td>57.81</td>\n",
       "        </tr>\n",
       "        <tr>\n",
       "            <td>Apricot</td>\n",
       "            <td>Prunus armeniaca</td>\n",
       "            <td>1.4</td>\n",
       "            <td>11.0</td>\n",
       "            <td>0.4</td>\n",
       "            <td>53.2</td>\n",
       "        </tr>\n",
       "        <tr>\n",
       "            <td>Atlantic mackerel</td>\n",
       "            <td>Scomber scombrus</td>\n",
       "            <td>19.0</td>\n",
       "            <td>0.0</td>\n",
       "            <td>14.0</td>\n",
       "            <td>202.0</td>\n",
       "        </tr>\n",
       "        <tr>\n",
       "            <td>Avocado</td>\n",
       "            <td>Persea americana</td>\n",
       "            <td>2.0</td>\n",
       "            <td>8.53</td>\n",
       "            <td>14.66</td>\n",
       "            <td>174.06</td>\n",
       "        </tr>\n",
       "        <tr>\n",
       "            <td>Banana</td>\n",
       "            <td>Musa acuminata</td>\n",
       "            <td>1.09</td>\n",
       "            <td>22.84</td>\n",
       "            <td>0.33</td>\n",
       "            <td>98.69</td>\n",
       "        </tr>\n",
       "    </tbody>\n",
       "</table>"
      ],
      "text/plain": [
       "[('Acorn', 'Quercus', 6.15, 40.75, 23.85, 402.25),\n",
       " ('Adzuki bean', 'Vigna angularis', 7.5, 24.8, 0.1, 130.1),\n",
       " ('Alfalfa', 'Medicago sativa', 4.0, 2.1, 0.7, 30.7),\n",
       " ('Almond', 'Prunus dulcis', 21.2, 21.6, 100.0, 1071.2),\n",
       " ('Amaranth', 'Amaranthus', 13.56, 65.25, 7.02, 378.42),\n",
       " ('Apple', 'Malus pumila', 0.26, 13.81, 0.17, 57.81),\n",
       " ('Apricot', 'Prunus armeniaca', 1.4, 11.0, 0.4, 53.2),\n",
       " ('Atlantic mackerel', 'Scomber scombrus', 19.0, 0.0, 14.0, 202.0),\n",
       " ('Avocado', 'Persea americana', 2.0, 8.53, 14.66, 174.06),\n",
       " ('Banana', 'Musa acuminata', 1.09, 22.84, 0.33, 98.69)]"
      ]
     },
     "execution_count": 33,
     "metadata": {},
     "output_type": "execute_result"
    }
   ],
   "source": [
    "%%sql\n",
    "SELECT * FROM nutrition \n",
    "ORDER BY name\n",
    "LIMIT 10;"
   ]
  },
  {
   "cell_type": "markdown",
   "id": "fffd2b8c-b36d-41a0-8b46-95644f294c5a",
   "metadata": {},
   "source": [
    "### Exporting nutrition VIEW as CSV\n",
    "-  to do this we need to query the view to a pandas dataframe and then save it as a csv"
   ]
  },
  {
   "cell_type": "code",
   "execution_count": 34,
   "id": "4daeca05-3a5d-41e3-8c6a-39f40d0c90d0",
   "metadata": {},
   "outputs": [],
   "source": [
    "conn = sqlite3.connect('food4thought.db')\n",
    "\n",
    "# Read the nutrition view into a DataFrame\n",
    "nutrition_df = pd.read_sql_query('SELECT * FROM nutrition ORDER BY name', conn)\n",
    "\n",
    "# Export DataFrame to CSV\n",
    "nutrition_df.to_csv('final_result/nutrition_data.csv', index=False)\n",
    "\n",
    "conn.close()"
   ]
  },
  {
   "cell_type": "code",
   "execution_count": 35,
   "id": "6d2395ee-484f-4b4d-a747-fc7b44a5c84e",
   "metadata": {},
   "outputs": [
    {
     "data": {
      "text/plain": [
       "120"
      ]
     },
     "execution_count": 35,
     "metadata": {},
     "output_type": "execute_result"
    }
   ],
   "source": [
    "len(nutrition_df)"
   ]
  },
  {
   "cell_type": "markdown",
   "id": "fa40c0f3-4125-4a38-9f72-d95f8465efe3",
   "metadata": {},
   "source": [
    "### Generating an HTML table report of the nutrition_df -> in html directory"
   ]
  },
  {
   "cell_type": "code",
   "execution_count": 37,
   "id": "16c2b49c-a1e1-4c2a-93ff-6f46447fa463",
   "metadata": {},
   "outputs": [],
   "source": [
    "# Convert DataFrame to HTML table\n",
    "html_table = nutrition_df.to_html(index=False)\n",
    "\n",
    "# Add title to HTML content\n",
    "html_content = f\"\"\"\n",
    "<!DOCTYPE html>\n",
    "<html>\n",
    "<head>\n",
    "    <title>Nutrition Data</title>\n",
    "</head>\n",
    "<body>\n",
    "    <h1>Nutrition Data</h1>\n",
    "    {html_table}\n",
    "</body>\n",
    "</html>\n",
    "\"\"\"\n",
    "\n",
    "# Write HTML content to a file\n",
    "with open('html/nutrition_data.html', 'w') as file:\n",
    "    file.write(html_content)\n",
    "\n"
   ]
  },
  {
   "cell_type": "markdown",
   "id": "88748607-3f6d-4baf-8d8c-85a9143ea645",
   "metadata": {},
   "source": [
    "## Part 3: Python application\n",
    "### querying recipes and ingredients from DBpedia and combine it with the nutritional data \n",
    "\n",
    "- The idea is to find recipes that has as a main ingredient the foods in the nutritional data."
   ]
  },
  {
   "cell_type": "markdown",
   "id": "16f0ed99-f029-431d-8c40-664472bb187e",
   "metadata": {},
   "source": [
    "#### SPARQLE DBpedia query for recipes that match ingredients with macronutrient information\n",
    "- something x has rdfs:label \"ingredient\" ( x is an ingredient)\n",
    "- x has properties carbs, fat and protein ( x has macro values)\n",
    "- a recipe r has property mainIngredient x (x is the main ingredient of r recipe)\n",
    "- select the label (names) of the recipes and the ingredients\n",
    "- filter both x and r for english language"
   ]
  },
  {
   "cell_type": "code",
   "execution_count": 38,
   "id": "a51e86e8-99d5-4aec-82bb-450a498e9aeb",
   "metadata": {},
   "outputs": [],
   "source": [
    "sparql.setQuery(\"\"\"\n",
    "SELECT DISTINCT ?recipe ?ingredient\n",
    "WHERE {\n",
    "?x rdfs:label ?ingredient .\n",
    "?x dbp:carbs ?carb .\n",
    "?x dbp:fat ?fat .\n",
    "?x dbp:protein ?prot .\n",
    "?r dbp:mainIngredient ?x .\n",
    "?r rdfs:label ?recipe .\n",
    "filter(lang(?ingredient) = 'en') .\n",
    "filter(lang(?recipe) = 'en') .\n",
    "}\n",
    "\"\"\")\n",
    "\n",
    "sparql.setReturnFormat(JSON)\n",
    "\n",
    "recipe = sparql.query().convert()"
   ]
  },
  {
   "cell_type": "code",
   "execution_count": 39,
   "id": "f1a45d50-049f-4ea1-a96d-0d3a3e1805da",
   "metadata": {},
   "outputs": [
    {
     "name": "stdout",
     "output_type": "stream",
     "text": [
      "1321\n"
     ]
    }
   ],
   "source": [
    "#check length of recipe json\n",
    "print(len(recipe[\"results\"][\"bindings\"]))"
   ]
  },
  {
   "cell_type": "code",
   "execution_count": 40,
   "id": "cae2d47d-bbc2-4082-baaa-fd1d61e3bca3",
   "metadata": {},
   "outputs": [
    {
     "name": "stdout",
     "output_type": "stream",
     "text": [
      "Beef  :  Beef Manhattan\n",
      "Beef  :  Tala huwa gosht\n",
      "Beef  :  Zrazy\n",
      "Beef  :  Frankfurter Rindswurst\n",
      "Beef  :  Loobia polo\n"
     ]
    }
   ],
   "source": [
    "# print first 5\n",
    "for i in recipe[\"results\"][\"bindings\"][:5]:\n",
    "    print(i[\"ingredient\"][\"value\"], \" : \", i[\"recipe\"][\"value\"])"
   ]
  },
  {
   "cell_type": "markdown",
   "id": "0fdd2982-53f3-403e-964b-48daf4719e64",
   "metadata": {},
   "source": [
    "- This shows the food that is the main ingredient of a recipe.\n",
    "- Create a dictionary called \"dishes\" that will have each ingredient as the key and a list of dishes that uses that ingredient as the main ingredient.\n",
    "- loop the results of our recipe sparql query. \n",
    "- if the ingredient is already in the dictionary, attach the name of the recipe to its LIST of values.\n",
    "- if not, add the ingredient to the dictionary with the corresponding recipe as the first item of the value."
   ]
  },
  {
   "cell_type": "code",
   "execution_count": 42,
   "id": "9e434bb3-8dd8-4351-817c-0ac506321903",
   "metadata": {},
   "outputs": [],
   "source": [
    "\n",
    "dishes = {}\n",
    "\n",
    "for r in recipe[\"results\"][\"bindings\"]:\n",
    "    if r[\"ingredient\"][\"value\"] in dishes:\n",
    "        dishes[r[\"ingredient\"][\"value\"]] += [r[\"recipe\"][\"value\"]]\n",
    "    else:\n",
    "        dishes[r[\"ingredient\"][\"value\"]] = [r[\"recipe\"][\"value\"]]\n"
   ]
  },
  {
   "cell_type": "code",
   "execution_count": 43,
   "id": "c66ded75-36de-4176-96d7-06f78dc53ffa",
   "metadata": {},
   "outputs": [
    {
     "data": {
      "text/plain": [
       "159"
      ]
     },
     "execution_count": 43,
     "metadata": {},
     "output_type": "execute_result"
    }
   ],
   "source": [
    "len(dishes)"
   ]
  },
  {
   "cell_type": "code",
   "execution_count": 44,
   "id": "a9d671ac-398b-41ea-bb71-ed31e4ef467b",
   "metadata": {},
   "outputs": [],
   "source": [
    "# Uncomment to print all grouped recipes (very long)\n",
    "\n",
    "# import pprint\n",
    "# pprint.pprint(dishes)"
   ]
  },
  {
   "cell_type": "markdown",
   "id": "b4b5a5de-acd5-4a5e-8a83-211922a16c67",
   "metadata": {},
   "source": [
    "## Combining nutrition VIEW and dishes dictionary - save in directory final_results\n",
    "- loop through the length of foods, that means through all the rows\n",
    "- if the name of the food matches any of the ingredients in our dishes dictionary \n",
    "- we will get the name of the food, its scientific name, its nutritional value \n",
    "- and a list of dishes where this food is the main ingredient.\n",
    "- save the result to a txt file"
   ]
  },
  {
   "cell_type": "code",
   "execution_count": 45,
   "id": "f9941924-9727-4e83-b53f-8214e313c0ae",
   "metadata": {},
   "outputs": [],
   "source": [
    "conn = sqlite3.connect('food4thought.db')\n",
    "\n",
    "# set cursor to execute the sql query\n",
    "c = conn.cursor()\n",
    "\n",
    "#foods is the variable that selects everything from the VIEW nutrition\n",
    "foods = list(c.execute(\"SELECT * FROM nutrition ORDER BY name\"))\n",
    "\n",
    "# Open a text file to write the output\n",
    "with open('final_result/nutrition_dishes.txt', 'w') as file:\n",
    "    file.write(\"Food Information using DBpedia and SPARQL\\n\")\n",
    "    file.write(\"=\" * 40 + \"\\n\\n\")  # Adds a separator line below the title\n",
    "    # Loop through the length of foods, that means through all the rows \n",
    "    for i in range(len(foods)):\n",
    "        if foods[i][0] in dishes:\n",
    "            file.write(f\"{foods[i][0]}: also known as {foods[i][1]}\\n\")\n",
    "            file.write(f\"contains: {foods[i][2]} grams of protein, {foods[i][3]} grams of carbohydrates, and {foods[i][4]} grams of fat\\n\")\n",
    "            file.write(f\"For every 100g it contains: {foods[i][5]} calories\\n\")\n",
    "            file.write(f\"{foods[i][0]} is the main ingredient of:\\n\")\n",
    "            for d in dishes[foods[i][0]]:\n",
    "                file.write(f\"    {d}\\n\")\n",
    "            file.write(\"\\n\")\n",
    "\n",
    "# Close the database connection\n",
    "conn.close()\n"
   ]
  },
  {
   "cell_type": "markdown",
   "id": "ece4b93d-a124-4fea-ab01-8ab7d5f24ea8",
   "metadata": {},
   "source": [
    "### We are finished!\n",
    "- we can see printed a list of vegetables its scientific name, nutritional value and list of dishes were our food is the main ingredient."
   ]
  },
  {
   "cell_type": "code",
   "execution_count": 47,
   "id": "88e5184d-b82c-4ce6-a24c-5d62e72acf34",
   "metadata": {},
   "outputs": [
    {
     "name": "stdout",
     "output_type": "stream",
     "text": [
      "Acorn :  also known as  Quercus\n",
      "contains:  6.15  grams of protein  40.75 grams of carbohydrates and  23.85 grams of fat\n",
      "for every 100g it contains:  402.25 calories\n",
      "Acorn is the main ingredient of:\n",
      "     Dotori-muk\n",
      "\n",
      "Almond :  also known as  Prunus dulcis\n",
      "contains:  21.2  grams of protein  21.6 grams of carbohydrates and  100.0 grams of fat\n",
      "for every 100g it contains:  1071.2 calories\n",
      "Almond is the main ingredient of:\n",
      "     Amlu\n",
      "     Hoşmerim\n",
      "     Jigarthanda (drink)\n",
      "\n",
      "Apple :  also known as  Malus pumila\n",
      "contains:  0.26  grams of protein  13.81 grams of carbohydrates and  0.17 grams of fat\n",
      "for every 100g it contains:  57.81 calories\n",
      "Apple is the main ingredient of:\n",
      "     Apfelküchle\n",
      "\n",
      "Avocado :  also known as  Persea americana\n",
      "contains:  2.0  grams of protein  8.53 grams of carbohydrates and  14.66 grams of fat\n",
      "for every 100g it contains:  174.06 calories\n",
      "Avocado is the main ingredient of:\n",
      "     Completo\n",
      "     Avocado soup\n",
      "\n",
      "Banana :  also known as  Musa acuminata\n",
      "contains:  1.09  grams of protein  22.84 grams of carbohydrates and  0.33 grams of fat\n",
      "for every 100g it contains:  98.69 calories\n",
      "Banana is the main ingredient of:\n",
      "     Peanut butter, banana and bacon sandwich\n",
      "     Poi (dessert)\n",
      "     Banana ketchup\n",
      "     Bilo-bilo\n",
      "     Binignit\n",
      "     Unni appam\n",
      "\n",
      "Barley :  also known as  Hordeum vulgare\n",
      "contains:  2.3  grams of protein  28.2 grams of carbohydrates and  0.4 grams of fat\n",
      "for every 100g it contains:  125.6 calories\n",
      "Barley is the main ingredient of:\n",
      "     Dabo kolo\n",
      "     Krupnik (soup)\n",
      "     Herring soup\n",
      "\n",
      "Broccoli :  also known as  Brassica oleracea var. italica\n",
      "contains:  2.82  grams of protein  6.64 grams of carbohydrates and  0.37 grams of fat\n",
      "for every 100g it contains:  41.17 calories\n",
      "Broccoli is the main ingredient of:\n",
      "     Broccoli slaw\n",
      "\n",
      "Cabbage :  also known as  Brassica oleracea var. capitata\n",
      "contains:  1.28  grams of protein  5.8 grams of carbohydrates and  0.1 grams of fat\n",
      "for every 100g it contains:  29.22 calories\n",
      "Cabbage is the main ingredient of:\n",
      "     Mie koclok\n",
      "     Maple slaw\n",
      "     Dim sim\n",
      "     Gołąbki\n",
      "     Lakror\n",
      "     Red slaw\n",
      "\n",
      "Carrot :  also known as  Daucus carota ssp. sativus\n",
      "contains:  0.93  grams of protein  9.6 grams of carbohydrates and  0.18 grams of fat\n",
      "for every 100g it contains:  43.74 calories\n",
      "Carrot is the main ingredient of:\n",
      "     Coda alla vaccinara\n",
      "     Rosolli\n",
      "\n",
      "Cassava :  also known as  Manihot esculenta\n",
      "contains:  1.4  grams of protein  38.1 grams of carbohydrates and  0.3 grams of fat\n",
      "for every 100g it contains:  160.7 calories\n",
      "Cassava is the main ingredient of:\n",
      "     Carimañola\n",
      "     Piutu\n",
      "     Kabkab\n",
      "     Javanese doughnut\n",
      "     Gethuk\n",
      "\n",
      "Cauliflower :  also known as  Brassica oleracea var. botrytis\n",
      "contains:  1.9  grams of protein  5.0 grams of carbohydrates and  0.3 grams of fat\n",
      "for every 100g it contains:  30.3 calories\n",
      "Cauliflower is the main ingredient of:\n",
      "     Cauliflower cheese\n",
      "\n",
      "Chickpea :  also known as  Cicer arietinum\n",
      "contains:  20.5  grams of protein  27.42 grams of carbohydrates and  6.04 grams of fat\n",
      "for every 100g it contains:  246.04 calories\n",
      "Chickpea is the main ingredient of:\n",
      "     Toyga soup\n",
      "     Chickpea bread\n",
      "     Chickpea noghl\n",
      "     Guasanas\n",
      "\n",
      "Chives :  also known as  Allium schoenoprasum\n",
      "contains:  3.27  grams of protein  4.35 grams of carbohydrates and  0.73 grams of fat\n",
      "for every 100g it contains:  37.05 calories\n",
      "Chives is the main ingredient of:\n",
      "     Ranch dressing\n",
      "\n",
      "Cinnamon :  also known as  Cinnamomum\n",
      "contains:  4.0  grams of protein  80.6 grams of carbohydrates and  1.2 grams of fat\n",
      "for every 100g it contains:  349.2 calories\n",
      "Cinnamon is the main ingredient of:\n",
      "     Moravian sugar cake\n",
      "     Apple crisp\n",
      "     Dutch baby pancake\n",
      "     Kuzi ayam\n",
      "     Arisa pitha\n",
      "     Fatost\n",
      "     Franzbrötchen\n",
      "     Kerutuk daging\n",
      "     Dizé milé\n",
      "     Karydopita\n",
      "     Leche frita\n",
      "     Tahini roll\n",
      "     Bandrek\n",
      "     Capirotada\n",
      "     Cider doughnut\n",
      "     Pio Quinto\n",
      "     Soetpatats\n",
      "     Honey bun\n",
      "     Filhó\n",
      "     Cevizli Irmik Tatlısı\n",
      "     Teurgoule\n",
      "     Mostaccino\n",
      "     Pfeffernüsse\n",
      "     Yellow curry\n",
      "\n",
      "Coconut :  also known as  Cocos nucifera\n",
      "contains:  3.33  grams of protein  15.23 grams of carbohydrates and  33.49 grams of fat\n",
      "for every 100g it contains:  375.65 calories\n",
      "Coconut is the main ingredient of:\n",
      "     Sata (food)\n",
      "     Macapuno\n",
      "     Anzac biscuit\n",
      "     Cucurucho\n",
      "     Daheen\n",
      "     Pek nga\n",
      "     Chicken Chettinad\n",
      "     Puttu\n",
      "     Krispie\n",
      "     Kue kochi\n",
      "     Gizzada\n",
      "     Chukuchuk\n",
      "     Geplak\n",
      "     Kakara pitha\n",
      "     Wingko\n",
      "     Cocada amarela\n",
      "     Coconut chutney\n",
      "     Coconut doughnut\n",
      "     Coconut milk\n",
      "     Toto (dessert)\n",
      "     Avial\n",
      "     Cameo Creme\n",
      "     Neyyappam\n",
      "     Olho-de-sogra\n",
      "     Gethuk\n",
      "     Manda pitha\n",
      "     Manjar branco\n",
      "     Palitaw\n",
      "     Ruske kape\n",
      "     Unnakai\n",
      "     Pan de coco\n",
      "\n",
      "Coriander :  also known as  Coriandrum sativum\n",
      "contains:  2.13  grams of protein  3.67 grams of carbohydrates and  0.52 grams of fat\n",
      "for every 100g it contains:  27.88 calories\n",
      "Coriander is the main ingredient of:\n",
      "     Zhug\n",
      "     Koththamalli\n",
      "     Jhalmuri\n",
      "     Mititei\n",
      "     Dovga\n",
      "     Mostaccino\n",
      "     Yellow curry\n",
      "\n",
      "Cucumber :  also known as  Cucumis sativus\n",
      "contains:  0.65  grams of protein  3.63 grams of carbohydrates and  0.11 grams of fat\n",
      "for every 100g it contains:  18.11 calories\n",
      "Cucumber is the main ingredient of:\n",
      "     Qarymutah\n",
      "     Cucumber raita\n",
      "     Cucumber sandwich\n",
      "     Cucumber soup\n",
      "     Jhalmuri\n",
      "     Raita\n",
      "\n",
      "Cumin :  also known as  Cuminum cyminum\n",
      "contains:  17.81  grams of protein  44.24 grams of carbohydrates and  22.27 grams of fat\n",
      "for every 100g it contains:  448.63 calories\n",
      "Cumin is the main ingredient of:\n",
      "     Chermoula\n",
      "     Ful medames\n",
      "     Jal-jeera\n",
      "     Salsa golf\n",
      "     Shahan ful\n",
      "     Yellow curry\n",
      "\n",
      "Dill :  also known as  Anethum graveolens\n",
      "contains:  3.5  grams of protein  7.0 grams of carbohydrates and  1.1 grams of fat\n",
      "for every 100g it contains:  51.9 calories\n",
      "Dill is the main ingredient of:\n",
      "     Baghali polo\n",
      "     Gravlax\n",
      "     Ranch dressing\n",
      "     Dovga\n",
      "\n",
      "Durian :  also known as  Durio zibethinus\n",
      "contains:  1.47  grams of protein  27.09 grams of carbohydrates and  5.33 grams of fat\n",
      "for every 100g it contains:  162.21 calories\n",
      "Durian is the main ingredient of:\n",
      "     Tempoyak\n",
      "\n",
      "Eggplant :  also known as  Solanum melongena\n",
      "contains:  0.98  grams of protein  5.88 grams of carbohydrates and  0.18 grams of fat\n",
      "for every 100g it contains:  29.06 calories\n",
      "Eggplant is the main ingredient of:\n",
      "     Beguni\n",
      "     Pasta alla Norma\n",
      "     Alinazik kebab\n",
      "     Parmigiana\n",
      "     Baingan bharta\n",
      "     Baba ghanoush\n",
      "     Badrijani\n",
      "     Khoresh bademjan\n",
      "     Shukto\n",
      "     Tortang talong\n",
      "     Poqui poqui\n",
      "\n",
      "Fennel :  also known as  Foeniculum vulgare\n",
      "contains:  15.8  grams of protein  52.0 grams of carbohydrates and  14.9 grams of fat\n",
      "for every 100g it contains:  405.3 calories\n",
      "Fennel is the main ingredient of:\n",
      "     Drokpa katsa\n",
      "\n",
      "Fenugreek :  also known as  Trigonella foenum-graecum\n",
      "contains:  23.0  grams of protein  58.0 grams of carbohydrates and  6.4 grams of fat\n",
      "for every 100g it contains:  381.6 calories\n",
      "Fenugreek is the main ingredient of:\n",
      "     Muthia\n",
      "     Rfissa\n",
      "     Maluj\n",
      "     Nasi Lemuni\n",
      "     Yellow curry\n",
      "\n",
      "Garlic :  also known as  Allium sativum\n",
      "contains:  6.36  grams of protein  33.06 grams of carbohydrates and  0.5 grams of fat\n",
      "for every 100g it contains:  162.18 calories\n",
      "Garlic is the main ingredient of:\n",
      "     Dakjuk\n",
      "     Dum Aloo\n",
      "     Kuzi ayam\n",
      "     Préfou\n",
      "     Zhug\n",
      "     Chicken Chettinad\n",
      "     Nem nướng\n",
      "     Mie cakalang\n",
      "     Toum\n",
      "     General Tso's chicken\n",
      "     Glasswort salad\n",
      "     Kerutuk daging\n",
      "     Machher Jhol\n",
      "     Aioli\n",
      "     Capuliato\n",
      "     Hmiss\n",
      "     Ranch dressing\n",
      "     Bagna càuda\n",
      "     Chicken Picasso\n",
      "     Worcestershire sauce\n",
      "     Mititei\n",
      "     Ayam masak merah\n",
      "     Buridda\n",
      "     Burmese fried rice\n",
      "     Pink Sauce\n",
      "     Bruschetta\n",
      "     Carniolan sausage\n",
      "     Nasi Beringin\n",
      "     Nasi Lemuni\n",
      "     Red curry\n",
      "     Pistou\n",
      "     Pieds paquets\n",
      "     Tirokafteri\n",
      "     Yellow curry\n",
      "     Spaghetti all'assassina\n",
      "     Romesco\n",
      "     Swiss wing\n",
      "\n",
      "Ginger :  also known as  Zingiber officinale\n",
      "contains:  1.82  grams of protein  17.77 grams of carbohydrates and  0.75 grams of fat\n",
      "for every 100g it contains:  85.11 calories\n",
      "Ginger is the main ingredient of:\n",
      "     White cut chicken\n",
      "     Deuk Deuk Tong\n",
      "     Apple crisp\n",
      "     Dum Aloo\n",
      "     Chicken Chettinad\n",
      "     General Tso's chicken\n",
      "     Brandy snaps\n",
      "     Chinese chicken salad\n",
      "     Kerutuk daging\n",
      "     Koththamalli\n",
      "     Machher Jhol\n",
      "     Ginger crunch\n",
      "     Ginger milk curd\n",
      "     Ginger pickle\n",
      "     Bandrek\n",
      "     Jal-jeera\n",
      "     Bir pletok\n",
      "     Coconut chutney\n",
      "     Ayam masak merah\n",
      "     Shukto\n",
      "     Liver soup\n",
      "     Nasi Beringin\n",
      "     Nasi Lemuni\n",
      "     Pfeffernüsse\n",
      "     Yellow curry\n",
      "     Swiss wing\n",
      "\n",
      "Guava :  also known as  Psidium guajava\n",
      "contains:  2.55  grams of protein  14.32 grams of carbohydrates and  0.95 grams of fat\n",
      "for every 100g it contains:  76.03 calories\n",
      "Guava is the main ingredient of:\n",
      "     Cucurucho\n",
      "     Goiabada\n",
      "\n",
      "Hazelnut :  also known as  Corylus\n",
      "contains:  14.95  grams of protein  16.7 grams of carbohydrates and  60.75 grams of fat\n",
      "for every 100g it contains:  673.35 calories\n",
      "Hazelnut is the main ingredient of:\n",
      "     Tirolerkuchen\n",
      "\n",
      "Jujube :  also known as  Ziziphus zizyphus\n",
      "contains:  1.2  grams of protein  20.23 grams of carbohydrates and  1.1 grams of fat\n",
      "for every 100g it contains:  95.62 calories\n",
      "Jujube is the main ingredient of:\n",
      "     Daechu-gom\n",
      "\n",
      "Kale :  also known as  Brassica napus var. pabularia\n",
      "contains:  1.9  grams of protein  8.8 grams of carbohydrates and  0.4 grams of fat\n",
      "for every 100g it contains:  46.4 calories\n",
      "Kale is the main ingredient of:\n",
      "     Knieperkohl\n",
      "\n",
      "Leek :  also known as  Allium porrum\n",
      "contains:  1.5  grams of protein  14.15 grams of carbohydrates and  0.3 grams of fat\n",
      "for every 100g it contains:  65.3 calories\n",
      "Leek is the main ingredient of:\n",
      "     Qutab\n",
      "     Lakror\n",
      "     Bursa Cantik Pide\n",
      "     Cantiq\n",
      "\n",
      "Lemon :  also known as  Citrus limon\n",
      "contains:  1.1  grams of protein  9.32 grams of carbohydrates and  0.3 grams of fat\n",
      "for every 100g it contains:  44.38 calories\n",
      "Lemon is the main ingredient of:\n",
      "     'Ota 'ika\n",
      "     Spanakorizo\n",
      "     Glasswort salad\n",
      "     Dizé milé\n",
      "     Jhalmuri\n",
      "     Ceviche\n",
      "     Passatelli\n",
      "     Tirokafteri\n",
      "\n",
      "Lettuce :  also known as  Lactuca sativa\n",
      "contains:  1.35  grams of protein  2.23 grams of carbohydrates and  0.22 grams of fat\n",
      "for every 100g it contains:  16.3 calories\n",
      "Lettuce is the main ingredient of:\n",
      "     Chinese chicken salad\n",
      "     Club sandwich\n",
      "     Chalupa\n",
      "\n",
      "Mango :  also known as  Mangifera indica\n",
      "contains:  0.82  grams of protein  15.0 grams of carbohydrates and  0.38 grams of fat\n",
      "for every 100g it contains:  66.7 calories\n",
      "Mango is the main ingredient of:\n",
      "     Mango pomelo sago\n",
      "     Mango sticky rice\n",
      "\n",
      "Millet :  also known as  Panicum miliaceum\n",
      "contains:  11.0  grams of protein  72.8 grams of carbohydrates and  4.3 grams of fat\n",
      "for every 100g it contains:  373.9 calories\n",
      "Millet is the main ingredient of:\n",
      "     Ngome (bread)\n",
      "     Fura (food)\n",
      "     Bryja\n",
      "\n",
      "Mung bean :  also known as  Vigna radiata\n",
      "contains:  7.02  grams of protein  19.15 grams of carbohydrates and  0.18 grams of fat\n",
      "for every 100g it contains:  106.3 calories\n",
      "Mung bean is the main ingredient of:\n",
      "     Snow skin mooncake\n",
      "     Nokdu-muk\n",
      "     Bánh chưng\n",
      "     Bánh cốm\n",
      "\n",
      "Napa cabbage :  also known as  Brassica rapa var. pekinensis\n",
      "contains:  1.2  grams of protein  3.2 grams of carbohydrates and  0.2 grams of fat\n",
      "for every 100g it contains:  19.4 calories\n",
      "Napa cabbage is the main ingredient of:\n",
      "     Baechu-kimchi\n",
      "     Baek-kimchi\n",
      "\n",
      "Oat :  also known as  Avena sativa\n",
      "contains:  16.9  grams of protein  66.3 grams of carbohydrates and  6.9 grams of fat\n",
      "for every 100g it contains:  394.9 calories\n",
      "Oat is the main ingredient of:\n",
      "     Oatmeal\n",
      "\n",
      "Okra :  also known as  Abelmoschus esculentus\n",
      "contains:  1.9  grams of protein  7.46 grams of carbohydrates and  0.19 grams of fat\n",
      "for every 100g it contains:  39.15 calories\n",
      "Okra is the main ingredient of:\n",
      "     Bhendi fry\n",
      "\n",
      "Papaya :  also known as  Carica papaya\n",
      "contains:  0.47  grams of protein  10.82 grams of carbohydrates and  0.26 grams of fat\n",
      "for every 100g it contains:  47.5 calories\n",
      "Papaya is the main ingredient of:\n",
      "     Cucurucho\n",
      "     Takihi\n",
      "\n",
      "Parsley :  also known as  Petroselinum crispum\n",
      "contains:  2.97  grams of protein  6.33 grams of carbohydrates and  0.79 grams of fat\n",
      "for every 100g it contains:  44.31 calories\n",
      "Parsley is the main ingredient of:\n",
      "     Qarymutah\n",
      "     Mercimek köftesi\n",
      "     Tortillitas de camarones\n",
      "     Ranch dressing\n",
      "     Yayla çorbası\n",
      "     Tjvjik (food)\n",
      "     Persillade\n",
      "     Tabbouleh\n",
      "\n",
      "Persimmon :  also known as  Diospyros\n",
      "contains:  0.8  grams of protein  33.5 grams of carbohydrates and  0.4 grams of fat\n",
      "for every 100g it contains:  140.8 calories\n",
      "Persimmon is the main ingredient of:\n",
      "     Persimmon vinegar\n",
      "     Persimmon pudding\n",
      "\n",
      "Pineapple :  also known as  Ananas comosus\n",
      "contains:  0.54  grams of protein  13.12 grams of carbohydrates and  0.12 grams of fat\n",
      "for every 100g it contains:  55.72 calories\n",
      "Pineapple is the main ingredient of:\n",
      "     Cucurucho\n",
      "     Hamonado\n",
      "     Toast Hawaii\n",
      "     Tepache\n",
      "\n",
      "Pistachio :  also known as  Pistacia vera\n",
      "contains:  20.27  grams of protein  27.51 grams of carbohydrates and  45.39 grams of fat\n",
      "for every 100g it contains:  599.63 calories\n",
      "Pistachio is the main ingredient of:\n",
      "     Mozartkugel\n",
      "\n",
      "Quince :  also known as  Cydonia oblonga\n",
      "contains:  0.4  grams of protein  15.3 grams of carbohydrates and  0.1 grams of fat\n",
      "for every 100g it contains:  63.7 calories\n",
      "Quince is the main ingredient of:\n",
      "     Quince cheese\n",
      "\n",
      "Rye :  also known as  Secale cereale\n",
      "contains:  10.34  grams of protein  75.86 grams of carbohydrates and  1.63 grams of fat\n",
      "for every 100g it contains:  359.47 calories\n",
      "Rye is the main ingredient of:\n",
      "     Ry-Krisp\n",
      "     Rupjmaize\n",
      "     Ploatz\n",
      "\n",
      "Saffron :  also known as  Crocus sativus\n",
      "contains:  0.24  grams of protein  1.37 grams of carbohydrates and  0.12 grams of fat\n",
      "for every 100g it contains:  7.52 calories\n",
      "Saffron is the main ingredient of:\n",
      "     Kuzi ayam\n",
      "     Basundi\n",
      "     Khira sagara\n",
      "     Gulab jamun\n",
      "     Khoresh bademjan\n",
      "     Taftan (bread)\n",
      "     Tahchin\n",
      "     Imarti\n",
      "     Sheermal\n",
      "     Shrikhand\n",
      "     Saffron rice\n",
      "\n",
      "Sesame :  also known as  Sesamum orientale\n",
      "contains:  17.7  grams of protein  23.4 grams of carbohydrates and  49.7 grams of fat\n",
      "for every 100g it contains:  611.7 calories\n",
      "Sesame is the main ingredient of:\n",
      "     Deuk Deuk Tong\n",
      "     Huangqiao sesame cake\n",
      "     Barazek\n",
      "     Pashmak\n",
      "     Handvo\n",
      "     Black sesame rice cake\n",
      "     Tiler Khaja\n",
      "\n",
      "Shallot :  also known as  Allium ascalonicum\n",
      "contains:  2.5  grams of protein  16.8 grams of carbohydrates and  0.1 grams of fat\n",
      "for every 100g it contains:  78.1 calories\n",
      "Shallot is the main ingredient of:\n",
      "     Nem nướng\n",
      "     Mie cakalang\n",
      "\n",
      "Spinach :  also known as  Spinacia oleracea\n",
      "contains:  2.9  grams of protein  3.6 grams of carbohydrates and  0.4 grams of fat\n",
      "for every 100g it contains:  29.6 calories\n",
      "Spinach is the main ingredient of:\n",
      "     Spanakorizo\n",
      "     Ispanaklı Selanik Böreği\n",
      "     Spinach salad\n",
      "     Yayla çorbası\n",
      "     Lakror\n",
      "     Dovga\n",
      "\n",
      "Strawberry :  also known as  Fragaria X ananassa\n",
      "contains:  0.67  grams of protein  7.68 grams of carbohydrates and  0.3 grams of fat\n",
      "for every 100g it contains:  36.1 calories\n",
      "Strawberry is the main ingredient of:\n",
      "     Rhubarb pie\n",
      "     Strawberry ice cream\n",
      "\n",
      "Sweet potato :  also known as  Ipomoea batatas\n",
      "contains:  2.0  grams of protein  20.1 grams of carbohydrates and  0.1 grams of fat\n",
      "for every 100g it contains:  89.3 calories\n",
      "Sweet potato is the main ingredient of:\n",
      "     Kānga waru\n",
      "     Purple sweet potato haupia pie\n",
      "     Linongot\n",
      "     Kenpi\n",
      "     Soetpatats\n",
      "     Bilo-bilo\n",
      "     Binignit\n",
      "     Camote cue\n",
      "\n",
      "Tamarind :  also known as  Tamarindus indica\n",
      "contains:  2.8  grams of protein  62.5 grams of carbohydrates and  0.6 grams of fat\n",
      "for every 100g it contains:  266.6 calories\n",
      "Tamarind is the main ingredient of:\n",
      "     Dalcha\n",
      "     Kerutuk daging\n",
      "     Khatti Dal\n",
      "     Worcestershire sauce\n",
      "\n",
      "Taro :  also known as  Colocasia esculenta\n",
      "contains:  5.0  grams of protein  6.7 grams of carbohydrates and  0.11 grams of fat\n",
      "for every 100g it contains:  47.79 calories\n",
      "Taro is the main ingredient of:\n",
      "     Lūʻau (food)\n",
      "     Laulau\n",
      "     Bilo-bilo\n",
      "     Binignit\n",
      "     Imoni\n",
      "     Taro purée\n",
      "     Takihi\n",
      "\n",
      "Walnut :  also known as  Juglans\n",
      "contains:  15.23  grams of protein  13.71 grams of carbohydrates and  65.21 grams of fat\n",
      "for every 100g it contains:  702.65 calories\n",
      "Walnut is the main ingredient of:\n",
      "     Ttongppang\n",
      "     Karydopita\n",
      "     Afghan (biscuit)\n",
      "     Coffee and walnut cake\n",
      "     Cevizli Irmik Tatlısı\n",
      "\n",
      "Watermelon :  also known as  Citrullus lanatus\n",
      "contains:  0.61  grams of protein  7.55 grams of carbohydrates and  0.15 grams of fat\n",
      "for every 100g it contains:  33.99 calories\n",
      "Watermelon is the main ingredient of:\n",
      "     Subak-hwachae\n",
      "     Watermelon steak\n",
      "\n",
      "Wheat :  also known as  Triticum\n",
      "contains:  12.61  grams of protein  71.18 grams of carbohydrates and  1.54 grams of fat\n",
      "for every 100g it contains:  349.02 calories\n",
      "Wheat is the main ingredient of:\n",
      "     Toyga soup\n",
      "     Cuccìa\n",
      "     Milk roll\n",
      "     Churma\n",
      "     Kansar\n",
      "     Blini\n",
      "     Toobs\n",
      "     Wheatena\n",
      "     Sandige\n",
      "\n"
     ]
    }
   ],
   "source": [
    "# Uncomment to print in Jupyter\n",
    "\n",
    "conn = sqlite3.connect('food4thought.db')\n",
    "\n",
    "# set cursor to execute the sql query\n",
    "c = conn.cursor()\n",
    "\n",
    "#foods is the variable that selects everything from the VIEW nutrition\n",
    "foods = list(c.execute(\"SELECT * FROM nutrition ORDER BY name\"))\n",
    "\n",
    "for i in range(len(foods)):\n",
    "    if foods[i][0] in dishes:\n",
    "        print(foods[i][0], \": \", \"also known as \", foods[i][1])\n",
    "        print(\"contains: \", foods[i][2], \" grams of protein \", foods[i][3], \"grams of carbohydrates and \", foods[i][4], \"grams of fat\")\n",
    "        print(\"for every 100g it contains: \", foods[i][5], \"calories\")\n",
    "        print(foods[i][0], \"is the main ingredient of:\")\n",
    "        for d in dishes[foods[i][0]]:\n",
    "            print(\"    \", d)\n",
    "        print(\"\")\n",
    "\n",
    "# Close the database connection\n",
    "conn.close()"
   ]
  },
  {
   "cell_type": "code",
   "execution_count": null,
   "id": "94a66f82-5dce-4878-a2e3-2694f7fcf7e9",
   "metadata": {},
   "outputs": [],
   "source": []
  }
 ],
 "metadata": {
  "kernelspec": {
   "display_name": "Python 3 (ipykernel)",
   "language": "python",
   "name": "python3"
  },
  "language_info": {
   "codemirror_mode": {
    "name": "ipython",
    "version": 3
   },
   "file_extension": ".py",
   "mimetype": "text/x-python",
   "name": "python",
   "nbconvert_exporter": "python",
   "pygments_lexer": "ipython3",
   "version": "3.11.7"
  }
 },
 "nbformat": 4,
 "nbformat_minor": 5
}
