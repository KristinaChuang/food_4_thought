{
 "cells": [
  {
   "cell_type": "markdown",
   "id": "c6cbd4d8-d26e-47f5-a29f-ca879a2308b5",
   "metadata": {},
   "source": [
    "# Project Name: Food 4 Thought\n",
    "\n",
    "** This project revisits and expands upon an original assignment completed as part of the \"Data and Knowledge Engineering\" course during my Bachelor's degree in Business Informatics at Wirtschaftsuniversität Wien in 2021. For further details refer to the README.md or theory.md files included in the repository.\n",
    "\n",
    "- Author: Kristina Chuang\n",
    "- Original date: 29/05/2021\n",
    "- Revisited: 12/07/2024\n",
    "\n",
    "### Technologies:\n",
    "- Python, SQL, SPARQL, Relational Databases, RDF (Resource Description Framework), Knowledge graphs, Semantic Web.\n",
    "\n",
    "### Goals: \n",
    "1. Combine a csv table with common generic foods and their scientific names with nutritional RDF data from DBpedia.org\n",
    "2. Output a new CSV report with the combined findings, giving values for each vegetable grams of macronutrients; Protein, Carbohydrates and Fat, and computing their combined caloric value.\n",
    "3. Query recipes from DBpedia using SPARQL and match them with the nutritional table in a Python Application."
   ]
  },
  {
   "cell_type": "markdown",
   "id": "298258e1-8c82-41ba-bbd7-409112f38e11",
   "metadata": {},
   "source": [
    "## Part 1: Relational Database\n",
    "- Import the dataset:\n",
    "    - The original dataset can be found in the portal data.world <br>\n",
    "    https://data.world/alexandra/generic-food-database/workspace/file?filename=generic-food.csv <br>\n",
    "- We will first use the request and pandas package as the data set will require some cleaning and transforming to correctly match the dbpedia.org ontologies.\n",
    "    "
   ]
  },
  {
   "cell_type": "code",
   "execution_count": 21,
   "id": "a1bfcda4-2d73-417a-af69-f71dcf3a81b7",
   "metadata": {
    "tags": []
   },
   "outputs": [],
   "source": [
    "# importing necessary packages\n",
    "\n",
    "import pandas as pd\n",
    "import requests\n",
    "import os.path"
   ]
  },
  {
   "cell_type": "code",
   "execution_count": 23,
   "id": "93159a4a-3336-4567-8611-c41169b6086d",
   "metadata": {
    "tags": []
   },
   "outputs": [
    {
     "name": "stdout",
     "output_type": "stream",
     "text": [
      "file exists.\n"
     ]
    }
   ],
   "source": [
    "fn = \"data/foods.csv\"\n",
    "if os.path.isfile(fn):\n",
    "    print(\"file exists.\")\n",
    "else:\n",
    "    url = 'https://query.data.world/s/kg6g2cwvmdxaaixvxa63ix2j6w3l3t?dws=00000'\n",
    "    r = requests.get(url)\n",
    "    f = open(fn, 'w')\n",
    "    f.write(r.text)\n",
    "    f.close()\n",
    "    print(\"downloaded.\")"
   ]
  },
  {
   "cell_type": "markdown",
   "id": "f16aa5c3-84aa-423a-94e7-213c2d234947",
   "metadata": {},
   "source": [
    "- Inspect data in foods.csv with pandas"
   ]
  },
  {
   "cell_type": "code",
   "execution_count": 74,
   "id": "54f591db-02a1-48d3-a1d0-45d2d345b00f",
   "metadata": {
    "tags": []
   },
   "outputs": [
    {
     "data": {
      "text/html": [
       "<div>\n",
       "<style scoped>\n",
       "    .dataframe tbody tr th:only-of-type {\n",
       "        vertical-align: middle;\n",
       "    }\n",
       "\n",
       "    .dataframe tbody tr th {\n",
       "        vertical-align: top;\n",
       "    }\n",
       "\n",
       "    .dataframe thead th {\n",
       "        text-align: right;\n",
       "    }\n",
       "</style>\n",
       "<table border=\"1\" class=\"dataframe\">\n",
       "  <thead>\n",
       "    <tr style=\"text-align: right;\">\n",
       "      <th></th>\n",
       "      <th>FOOD NAME</th>\n",
       "      <th>SCIENTIFIC NAME</th>\n",
       "      <th>GROUP</th>\n",
       "      <th>SUB GROUP</th>\n",
       "    </tr>\n",
       "  </thead>\n",
       "  <tbody>\n",
       "    <tr>\n",
       "      <th>837</th>\n",
       "      <td>Soft drink</td>\n",
       "      <td>NaN</td>\n",
       "      <td>Beverages</td>\n",
       "      <td>Other beverages</td>\n",
       "    </tr>\n",
       "    <tr>\n",
       "      <th>44</th>\n",
       "      <td>Chestnut</td>\n",
       "      <td>Castanea</td>\n",
       "      <td>Nuts</td>\n",
       "      <td>Nuts</td>\n",
       "    </tr>\n",
       "    <tr>\n",
       "      <th>301</th>\n",
       "      <td>Bison</td>\n",
       "      <td>Bison bison</td>\n",
       "      <td>Animal foods</td>\n",
       "      <td>Bovines</td>\n",
       "    </tr>\n",
       "    <tr>\n",
       "      <th>901</th>\n",
       "      <td>White cabbage</td>\n",
       "      <td>Brassica oleracea L. var. capitata L. f. alba DC.</td>\n",
       "      <td>Vegetables</td>\n",
       "      <td>Cabbages</td>\n",
       "    </tr>\n",
       "    <tr>\n",
       "      <th>815</th>\n",
       "      <td>Pita bread</td>\n",
       "      <td>NaN</td>\n",
       "      <td>Cereals and cereal products</td>\n",
       "      <td>Flat breads</td>\n",
       "    </tr>\n",
       "  </tbody>\n",
       "</table>\n",
       "</div>"
      ],
      "text/plain": [
       "         FOOD NAME                                    SCIENTIFIC NAME  \\\n",
       "837     Soft drink                                                NaN   \n",
       "44        Chestnut                                           Castanea   \n",
       "301          Bison                                        Bison bison   \n",
       "901  White cabbage  Brassica oleracea L. var. capitata L. f. alba DC.   \n",
       "815     Pita bread                                                NaN   \n",
       "\n",
       "                           GROUP        SUB GROUP  \n",
       "837                    Beverages  Other beverages  \n",
       "44                          Nuts             Nuts  \n",
       "301                 Animal foods          Bovines  \n",
       "901                   Vegetables         Cabbages  \n",
       "815  Cereals and cereal products      Flat breads  "
      ]
     },
     "execution_count": 74,
     "metadata": {},
     "output_type": "execute_result"
    }
   ],
   "source": [
    "df = pd.read_csv('data/foods.csv')\n",
    "df.sample(5)"
   ]
  },
  {
   "cell_type": "code",
   "execution_count": 76,
   "id": "1adfacab-0097-45f1-9589-8a459ff990c3",
   "metadata": {
    "tags": []
   },
   "outputs": [
    {
     "data": {
      "text/plain": [
       "(907, 4)"
      ]
     },
     "execution_count": 76,
     "metadata": {},
     "output_type": "execute_result"
    }
   ],
   "source": [
    "df.shape"
   ]
  },
  {
   "cell_type": "code",
   "execution_count": 78,
   "id": "1a46d81e-4221-4735-a271-bcd3854ce802",
   "metadata": {
    "tags": []
   },
   "outputs": [
    {
     "name": "stdout",
     "output_type": "stream",
     "text": [
      "<class 'pandas.core.frame.DataFrame'>\n",
      "RangeIndex: 907 entries, 0 to 906\n",
      "Data columns (total 4 columns):\n",
      " #   Column           Non-Null Count  Dtype \n",
      "---  ------           --------------  ----- \n",
      " 0   FOOD NAME        907 non-null    object\n",
      " 1   SCIENTIFIC NAME  648 non-null    object\n",
      " 2   GROUP            907 non-null    object\n",
      " 3   SUB GROUP        907 non-null    object\n",
      "dtypes: object(4)\n",
      "memory usage: 28.5+ KB\n"
     ]
    }
   ],
   "source": [
    "df.info()"
   ]
  },
  {
   "cell_type": "markdown",
   "id": "9d99723f-2bb0-46ce-bce4-b52973e07a6a",
   "metadata": {},
   "source": [
    "### Things to correct\n",
    "- only need the first 2 columns FOOD NAME and SCIENTIFIC NAME\n",
    "- rename using underscore \"_\" to handle blank spaces in column name\n",
    "- Multiple SCIENTIFIC NAME rows with Null value (drop them)\n",
    "- FOOD NAME contains 1 or multiple words and values:\n",
    "    - do string manipulation to keep only the first two words and separate them with an \"_\"\n",
    "    - first world must be capitalize, second word must be in lower case.\n",
    "- That will ensure maximizing the names match later with dbpedia.org RDFs triples format."
   ]
  },
  {
   "cell_type": "code",
   "execution_count": 92,
   "id": "d372ea46-0b84-4346-9975-ac9cc295aebc",
   "metadata": {
    "tags": []
   },
   "outputs": [
    {
     "data": {
      "text/html": [
       "<div>\n",
       "<style scoped>\n",
       "    .dataframe tbody tr th:only-of-type {\n",
       "        vertical-align: middle;\n",
       "    }\n",
       "\n",
       "    .dataframe tbody tr th {\n",
       "        vertical-align: top;\n",
       "    }\n",
       "\n",
       "    .dataframe thead th {\n",
       "        text-align: right;\n",
       "    }\n",
       "</style>\n",
       "<table border=\"1\" class=\"dataframe\">\n",
       "  <thead>\n",
       "    <tr style=\"text-align: right;\">\n",
       "      <th></th>\n",
       "      <th>food_name</th>\n",
       "      <th>scientific_name</th>\n",
       "    </tr>\n",
       "  </thead>\n",
       "  <tbody>\n",
       "    <tr>\n",
       "      <th>118</th>\n",
       "      <td>Sweet_basil</td>\n",
       "      <td>Ocimum basilicum</td>\n",
       "    </tr>\n",
       "    <tr>\n",
       "      <th>573</th>\n",
       "      <td>Wheat</td>\n",
       "      <td>Triticum</td>\n",
       "    </tr>\n",
       "    <tr>\n",
       "      <th>620</th>\n",
       "      <td>Walnut</td>\n",
       "      <td>Juglans</td>\n",
       "    </tr>\n",
       "    <tr>\n",
       "      <th>558</th>\n",
       "      <td>Jew's_ear</td>\n",
       "      <td>Auricularia auricula-judae</td>\n",
       "    </tr>\n",
       "    <tr>\n",
       "      <th>176</th>\n",
       "      <td>Sorghum</td>\n",
       "      <td>Sorghum bicolor</td>\n",
       "    </tr>\n",
       "  </tbody>\n",
       "</table>\n",
       "</div>"
      ],
      "text/plain": [
       "       food_name             scientific_name\n",
       "118  Sweet_basil            Ocimum basilicum\n",
       "573        Wheat                    Triticum\n",
       "620       Walnut                     Juglans\n",
       "558    Jew's_ear  Auricularia auricula-judae\n",
       "176      Sorghum             Sorghum bicolor"
      ]
     },
     "execution_count": 92,
     "metadata": {},
     "output_type": "execute_result"
    }
   ],
   "source": [
    "# 1. Keep only first 2 columns\n",
    "df = df.iloc[:, :2]\n",
    "\n",
    "# 2. Rename columns\n",
    "df.columns = ['food_name', 'scientific_name']\n",
    "\n",
    "# 3. Manipulate strings of first column with a function\n",
    "# Define the function to manipulate 'food_name'\n",
    "def manipulate_food_name(name):\n",
    "    name = name.replace('(', '').replace(')', '').replace('.', '').replace(',', '')\n",
    "    #remove punctuations marks\n",
    "    words = name.split()  # Split strings\n",
    "    \n",
    "    if len(words) == 1: \n",
    "        return words[0].capitalize() # if only one name capitalize\n",
    "    \n",
    "    elif len(words) > 1:\n",
    "        return words[0].capitalize() + \"_\" + words[1].lower() \n",
    "    # if name is longer capitalize the first, add underscore and second word in lower case.\n",
    "\n",
    "# Apply the function to the 'food_name' column\n",
    "df['food_name'] = df['food_name'].apply(manipulate_food_name)\n",
    "\n",
    "# drop rows with Nan in \"scientific_name\"\n",
    "df = df.dropna()\n",
    "\n",
    "# save clean dataframe as csv for manual cross referencing with dbpedia (next part)\n",
    "df.to_csv('data/foods_clean.csv', index=False)\n",
    "\n",
    "# check\n",
    "df.sample(5)"
   ]
  },
  {
   "cell_type": "code",
   "execution_count": 89,
   "id": "f9a21121-3cb5-42b5-b0d0-25e408d4775a",
   "metadata": {
    "tags": []
   },
   "outputs": [
    {
     "data": {
      "text/plain": [
       "(648, 2)"
      ]
     },
     "execution_count": 89,
     "metadata": {},
     "output_type": "execute_result"
    }
   ],
   "source": [
    "df.shape"
   ]
  },
  {
   "cell_type": "markdown",
   "id": "18a16c0c-d44e-4453-b41d-552123102e04",
   "metadata": {},
   "source": [
    "- Now we have a clean data with 648 food_name and scientific_name\n",
    "- It is not perfect, but we maximize the chances of matching the food_name to a wikipedia page and hence to a dbpedia page and its ontology (dbo:)\n",
    "- we can create a local sqlite database and load the table."
   ]
  },
  {
   "cell_type": "code",
   "execution_count": 104,
   "id": "b6b3c3fa-2d4f-46a3-86da-7faa4e40aeda",
   "metadata": {
    "tags": []
   },
   "outputs": [],
   "source": [
    "import sqlite3"
   ]
  },
  {
   "cell_type": "code",
   "execution_count": 106,
   "id": "4f2e9dbe-1488-491e-a991-4db3207f5e6b",
   "metadata": {
    "tags": []
   },
   "outputs": [
    {
     "name": "stdout",
     "output_type": "stream",
     "text": [
      "The sql extension is already loaded. To reload it, use:\n",
      "  %reload_ext sql\n"
     ]
    }
   ],
   "source": [
    "# load sql extension\n",
    "%load_ext sql"
   ]
  },
  {
   "cell_type": "markdown",
   "id": "c4488ebf-b47d-42c7-ab82-459fe96870fe",
   "metadata": {},
   "source": [
    "- create a local sqlite database for this project"
   ]
  },
  {
   "cell_type": "code",
   "execution_count": 109,
   "id": "4a8aba7a-8075-4ce3-99d3-5539ae6b829e",
   "metadata": {
    "tags": []
   },
   "outputs": [],
   "source": [
    "%sql sqlite:///food4thought.db"
   ]
  },
  {
   "cell_type": "code",
   "execution_count": 111,
   "id": "96243015-237d-4886-b7b0-8e4054d19eb7",
   "metadata": {
    "tags": []
   },
   "outputs": [],
   "source": [
    "# connection to db\n",
    "conn = sqlite3.connect('food4thought.db')"
   ]
  },
  {
   "cell_type": "code",
   "execution_count": 127,
   "id": "0a8d7ef1-71ea-4004-b983-9f3b6c30d6d5",
   "metadata": {
    "tags": []
   },
   "outputs": [
    {
     "name": "stdout",
     "output_type": "stream",
     "text": [
      " * sqlite:///food4thought.db\n",
      "Done.\n"
     ]
    },
    {
     "data": {
      "text/plain": [
       "648"
      ]
     },
     "execution_count": 127,
     "metadata": {},
     "output_type": "execute_result"
    }
   ],
   "source": [
    "%sql drop table if exists foods;\n",
    "\n",
    "# send dataframe as table to db\n",
    "df.to_sql('foods', conn, index = False)"
   ]
  },
  {
   "cell_type": "code",
   "execution_count": 133,
   "id": "42fd776a-2d63-4794-940f-b2fc404c1bba",
   "metadata": {
    "tags": []
   },
   "outputs": [
    {
     "name": "stdout",
     "output_type": "stream",
     "text": [
      " * sqlite:///food4thought.db\n",
      "Done.\n"
     ]
    },
    {
     "data": {
      "text/html": [
       "<table>\n",
       "    <thead>\n",
       "        <tr>\n",
       "            <th>food_name</th>\n",
       "            <th>scientific_name</th>\n",
       "        </tr>\n",
       "    </thead>\n",
       "    <tbody>\n",
       "        <tr>\n",
       "            <td>Ceylon_cinnamon</td>\n",
       "            <td>Cinnamomum verum</td>\n",
       "        </tr>\n",
       "        <tr>\n",
       "            <td>Chinese_chives</td>\n",
       "            <td>Allium tuberosum</td>\n",
       "        </tr>\n",
       "        <tr>\n",
       "            <td>Peppermint</td>\n",
       "            <td>Mentha X piperita</td>\n",
       "        </tr>\n",
       "        <tr>\n",
       "            <td>Sorghum</td>\n",
       "            <td>Sorghum bicolor</td>\n",
       "        </tr>\n",
       "        <tr>\n",
       "            <td>Hedge_mustard</td>\n",
       "            <td>Sisymbrium</td>\n",
       "        </tr>\n",
       "        <tr>\n",
       "            <td>American_cranberry</td>\n",
       "            <td>Vaccinium macrocarpon</td>\n",
       "        </tr>\n",
       "        <tr>\n",
       "            <td>Sheepshead</td>\n",
       "            <td>Archosargus probatocephalus</td>\n",
       "        </tr>\n",
       "        <tr>\n",
       "            <td>Butternut</td>\n",
       "            <td>Juglans cinerea</td>\n",
       "        </tr>\n",
       "        <tr>\n",
       "            <td>Alaska_wild</td>\n",
       "            <td>Polygonum alpinum</td>\n",
       "        </tr>\n",
       "        <tr>\n",
       "            <td>Atlantic_mackerel</td>\n",
       "            <td>Scomber scombrus</td>\n",
       "        </tr>\n",
       "    </tbody>\n",
       "</table>"
      ],
      "text/plain": [
       "[('Ceylon_cinnamon', 'Cinnamomum verum'),\n",
       " ('Chinese_chives', 'Allium tuberosum'),\n",
       " ('Peppermint', 'Mentha X piperita'),\n",
       " ('Sorghum', 'Sorghum bicolor'),\n",
       " ('Hedge_mustard', 'Sisymbrium'),\n",
       " ('American_cranberry', 'Vaccinium macrocarpon'),\n",
       " ('Sheepshead', 'Archosargus probatocephalus'),\n",
       " ('Butternut', 'Juglans cinerea'),\n",
       " ('Alaska_wild', 'Polygonum alpinum'),\n",
       " ('Atlantic_mackerel', 'Scomber scombrus')]"
      ]
     },
     "execution_count": 133,
     "metadata": {},
     "output_type": "execute_result"
    }
   ],
   "source": [
    "%%sql\n",
    "SELECT * \n",
    "FROM foods \n",
    "ORDER BY RANDOM() \n",
    "LIMIT 10;"
   ]
  },
  {
   "cell_type": "markdown",
   "id": "cb82547f-10a6-4a27-bbc4-5872180e5083",
   "metadata": {},
   "source": [
    "## Part 2: RDF, SPARQL queries for macronutrients"
   ]
  },
  {
   "cell_type": "markdown",
   "id": "b62ff537-7546-466d-969a-a7a14270505b",
   "metadata": {},
   "source": [
    "- This is where the search gets interesting, because the ontology from DBpedia is by nature crowd-sourced, there are no guarantees of its logical correctnes in natural language.\n",
    "\n",
    "- As a curiosity, try it yourself:\n",
    "    1. find a wikipedia page for Food (https://en.wikipedia.org/wiki/Food). This ensures that (most-likely) there will also be a dbpedia page for this subject.\n",
    "    2. go to https://dbpedia.org/page/ and type 'Food' after (page/) or any other wikipedia article name. Ensure that the name matches the wikipedia article URL ending, inluding capitalization of the first letter and potentially underscore \"_\" separating the name.\n",
    "    3. You will find that Food is \"An Entity of Type: music genre, from Named Graph: http://dbpedia.org\"\n",
    "    4. This means that an RDF triple such as (see below) are valid.\n",
    "        - :Food rdf:type dbo:MusicGenre\n",
    "        - :Strawberry rdf:type dbo:Insect<br>\n",
    "In natural language is like saying, Food is a type of music genre and Strawberry is a type of insect. Which makes no sense, but so are the state of things and have not change in the last 3 years in 2024.\n",
    "    \n",
    "\n",
    "- As a first step we need to find a common dbpedia ontology type (dbo:type) for some of the food names in the foods table.\n",
    "- This is some manual work inserting some food names in https://dbpedia.org/page/."
   ]
  },
  {
   "cell_type": "code",
   "execution_count": null,
   "id": "02c08682-3743-40af-8121-41a7a67eacab",
   "metadata": {},
   "outputs": [],
   "source": []
  },
  {
   "cell_type": "code",
   "execution_count": null,
   "id": "d5061ebd-9976-4834-a1cd-df8be0def203",
   "metadata": {},
   "outputs": [],
   "source": []
  },
  {
   "cell_type": "code",
   "execution_count": null,
   "id": "d9a98d94-4f80-4b43-8a0e-45cf7bca4440",
   "metadata": {},
   "outputs": [],
   "source": []
  }
 ],
 "metadata": {
  "kernelspec": {
   "display_name": "Python 3 (ipykernel)",
   "language": "python",
   "name": "python3"
  },
  "language_info": {
   "codemirror_mode": {
    "name": "ipython",
    "version": 3
   },
   "file_extension": ".py",
   "mimetype": "text/x-python",
   "name": "python",
   "nbconvert_exporter": "python",
   "pygments_lexer": "ipython3",
   "version": "3.11.7"
  }
 },
 "nbformat": 4,
 "nbformat_minor": 5
}
